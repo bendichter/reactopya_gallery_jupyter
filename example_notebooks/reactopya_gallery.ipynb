{
 "cells": [
  {
   "cell_type": "code",
   "execution_count": 1,
   "metadata": {},
   "outputs": [],
   "source": [
    "import reactopya_gallery_jupyter as rgj"
   ]
  },
  {
   "cell_type": "code",
   "execution_count": 6,
   "metadata": {},
   "outputs": [
    {
     "data": {
      "application/vnd.jupyter.widget-view+json": {
       "model_id": "8193ec9b30764ae1b15a9f56391facba",
       "version_major": 2,
       "version_minor": 0
      },
      "text/plain": [
       "Autocorrelograms(output='null', status='\"running\"', status_message='\"Running\"')"
      ]
     },
     "metadata": {},
     "output_type": "display_data"
    }
   ],
   "source": [
    "# Activate one of the following by changing 0 to 1\n",
    "\n",
    "if 0:\n",
    "    W = rgj.InteractivePlotlyExample(noise_level=4, num_points=20)\n",
    "    display(W)\n",
    "\n",
    "if 0:\n",
    "    W = rgj.ElectrodeGeometry(\n",
    "        locations=[[0,0], [2,0], [4,0], [-1,1], [1,1], [3,1], [5,1], [0,2], [2,2], [4,2]],\n",
    "        labels=[1,2,3,4,5,6,7,8,9,10]\n",
    "    )\n",
    "    display(W)\n",
    "\n",
    "if 1:\n",
    "    W = rgj.Autocorrelograms(\n",
    "        firingsPath='sha1dir://ed0fe4de4ef2c54b7c9de420c87f9df200721b24.synth_visapy/mea_c30/set1/firings_true.mda',\n",
    "        samplerate=30000,\n",
    "        max_dt_msec=150,\n",
    "        download_from='spikeforest.public',\n",
    "        \n",
    "    )\n",
    "    display(W)\n",
    "    "
   ]
  },
  {
   "cell_type": "code",
   "execution_count": null,
   "metadata": {},
   "outputs": [],
   "source": [
    "# This timeseries widget doesn't seem to be working quite yet in the notebook\n",
    "\n",
    "W = rgj.TimeseriesView(\n",
    "    recordingPath='sha1dir://fb52d510d2543634e247e0d2d1d4390be9ed9e20.synth_magland/datasets_noise10_K10_C4/001_synth',\n",
    "    download_from='spikeforest.public'\n",
    ")\n",
    "display(W)"
   ]
  }
 ],
 "metadata": {
  "kernelspec": {
   "display_name": "Python 3",
   "language": "python",
   "name": "python3"
  },
  "language_info": {
   "codemirror_mode": {
    "name": "ipython",
    "version": 3
   },
   "file_extension": ".py",
   "mimetype": "text/x-python",
   "name": "python",
   "nbconvert_exporter": "python",
   "pygments_lexer": "ipython3",
   "version": "3.7.3"
  }
 },
 "nbformat": 4,
 "nbformat_minor": 2
}
