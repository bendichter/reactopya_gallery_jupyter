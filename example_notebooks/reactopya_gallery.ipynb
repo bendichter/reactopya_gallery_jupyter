{
 "cells": [
  {
   "cell_type": "code",
   "execution_count": 1,
   "metadata": {},
   "outputs": [],
   "source": [
    "import reactopya_gallery_jupyter as rgj"
   ]
  },
  {
   "cell_type": "code",
   "execution_count": 2,
   "metadata": {},
   "outputs": [
    {
     "data": {
      "application/vnd.jupyter.widget-view+json": {
       "model_id": "a951ad8607b042ff982847fd107ca90a",
       "version_major": 2,
       "version_minor": 0
      },
      "text/plain": [
       "PlotlyExample(series='[{\"x\": [0.0, 0.002004008016032064, 0.004008016032064128, 0.0060120240480961915, 0.008016…"
      ]
     },
     "metadata": {},
     "output_type": "display_data"
    }
   ],
   "source": [
    "display(rgj.PlotlyExample())"
   ]
  },
  {
   "cell_type": "code",
   "execution_count": 3,
   "metadata": {},
   "outputs": [
    {
     "data": {
      "application/vnd.jupyter.widget-view+json": {
       "model_id": "489f9810853e415ba8ecb22aee95d2b8",
       "version_major": 2,
       "version_minor": 0
      },
      "text/plain": [
       "InteractivePlotlyExample(series='[{\"times\": [0.0, 11.11111111111111, 22.22222222222222, 33.33333333333333, 44.…"
      ]
     },
     "metadata": {},
     "output_type": "display_data"
    }
   ],
   "source": [
    "display(rgj.InteractivePlotlyExample())"
   ]
  },
  {
   "cell_type": "code",
   "execution_count": 4,
   "metadata": {},
   "outputs": [
    {
     "data": {
      "application/vnd.jupyter.widget-view+json": {
       "model_id": "547456ebd8ab42b889d110498e9a70fe",
       "version_major": 2,
       "version_minor": 0
      },
      "text/plain": [
       "ElectrodeGeometry(labels='[\"1\", \"2\", \"3\", \"4\"]', locations='[[0, 0], [1, 0], [1, 1], [2, 1]]', status='\"finish…"
      ]
     },
     "metadata": {},
     "output_type": "display_data"
    }
   ],
   "source": [
    "display(rgj.ElectrodeGeometry())"
   ]
  },
  {
   "cell_type": "code",
   "execution_count": null,
   "metadata": {},
   "outputs": [],
   "source": []
  }
 ],
 "metadata": {
  "kernelspec": {
   "display_name": "Python 3",
   "language": "python",
   "name": "python3"
  },
  "language_info": {
   "codemirror_mode": {
    "name": "ipython",
    "version": 3
   },
   "file_extension": ".py",
   "mimetype": "text/x-python",
   "name": "python",
   "nbconvert_exporter": "python",
   "pygments_lexer": "ipython3",
   "version": "3.7.3"
  }
 },
 "nbformat": 4,
 "nbformat_minor": 2
}
