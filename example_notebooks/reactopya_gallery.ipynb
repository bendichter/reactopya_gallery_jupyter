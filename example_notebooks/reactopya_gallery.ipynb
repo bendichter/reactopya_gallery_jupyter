{
 "cells": [
  {
   "cell_type": "code",
   "execution_count": 1,
   "metadata": {},
   "outputs": [],
   "source": [
    "import reactopya_gallery_jupyter as rgj"
   ]
  },
  {
   "cell_type": "code",
   "execution_count": 2,
   "metadata": {},
   "outputs": [
    {
     "data": {
      "application/vnd.jupyter.widget-view+json": {
       "model_id": "5b3fdf5f349244bfb07e7cee7a304d27",
       "version_major": 2,
       "version_minor": 0
      },
      "text/plain": [
       "PlotlyExample(series='[{\"x\": [0.0, 0.002004008016032064, 0.004008016032064128, 0.0060120240480961915, 0.008016…"
      ]
     },
     "metadata": {},
     "output_type": "display_data"
    }
   ],
   "source": [
    "display(rgj.PlotlyExample())"
   ]
  },
  {
   "cell_type": "code",
   "execution_count": 3,
   "metadata": {},
   "outputs": [
    {
     "data": {
      "application/vnd.jupyter.widget-view+json": {
       "model_id": "73bff7dde28f4e949e18703a52ca9d73",
       "version_major": 2,
       "version_minor": 0
      },
      "text/plain": [
       "InteractivePlotlyExample(series='[{\"times\": [0.0, 11.11111111111111, 22.22222222222222, 33.33333333333333, 44.…"
      ]
     },
     "metadata": {},
     "output_type": "display_data"
    }
   ],
   "source": [
    "display(rgj.InteractivePlotlyExample())"
   ]
  },
  {
   "cell_type": "code",
   "execution_count": 4,
   "metadata": {},
   "outputs": [
    {
     "data": {
      "application/vnd.jupyter.widget-view+json": {
       "model_id": "b97a5f450e8d4cc2a3d3ae3c57a69349",
       "version_major": 2,
       "version_minor": 0
      },
      "text/plain": [
       "ElectrodeGeometry(labels='[\"1\", \"2\", \"3\", \"4\"]', locations='[[0, 0], [1, 0], [1, 1], [2, 1]]', status='\"finish…"
      ]
     },
     "metadata": {},
     "output_type": "display_data"
    }
   ],
   "source": [
    "display(rgj.ElectrodeGeometry())"
   ]
  },
  {
   "cell_type": "code",
   "execution_count": 5,
   "metadata": {},
   "outputs": [
    {
     "data": {
      "application/vnd.jupyter.widget-view+json": {
       "model_id": "b85baeeea36d4aefb6286b814eaacdf8",
       "version_major": 2,
       "version_minor": 0
      },
      "text/plain": [
       "Autocorrelograms(output='null', status='\"error\"', status_message='\"No firingsPath provided\"')"
      ]
     },
     "metadata": {},
     "output_type": "display_data"
    }
   ],
   "source": [
    "display(rgj.Autocorrelograms())"
   ]
  },
  {
   "cell_type": "code",
   "execution_count": null,
   "metadata": {},
   "outputs": [],
   "source": []
  }
 ],
 "metadata": {
  "kernelspec": {
   "display_name": "Python 3",
   "language": "python",
   "name": "python3"
  },
  "language_info": {
   "codemirror_mode": {
    "name": "ipython",
    "version": 3
   },
   "file_extension": ".py",
   "mimetype": "text/x-python",
   "name": "python",
   "nbconvert_exporter": "python",
   "pygments_lexer": "ipython3",
   "version": "3.7.3"
  }
 },
 "nbformat": 4,
 "nbformat_minor": 2
}
