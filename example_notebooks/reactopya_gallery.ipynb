{
 "cells": [
  {
   "cell_type": "code",
   "execution_count": 1,
   "metadata": {},
   "outputs": [],
   "source": [
    "import reactopya_gallery_jupyter as rgj"
   ]
  },
  {
   "cell_type": "code",
   "execution_count": 2,
   "metadata": {},
   "outputs": [
    {
     "data": {
      "application/vnd.jupyter.widget-view+json": {
       "model_id": "ffd113a8bc4442209d877f27daa6d3fc",
       "version_major": 2,
       "version_minor": 0
      },
      "text/plain": [
       "InteractivePlotlyExample(series='[{\"times\": [0.0, 11.11111111111111, 22.22222222222222, 33.33333333333333, 44.…"
      ]
     },
     "metadata": {},
     "output_type": "display_data"
    }
   ],
   "source": [
    "display(rgj.InteractivePlotlyExample(noise_level=4, num_points=20))"
   ]
  },
  {
   "cell_type": "code",
   "execution_count": 3,
   "metadata": {},
   "outputs": [
    {
     "data": {
      "application/vnd.jupyter.widget-view+json": {
       "model_id": "b0094f848ebe4eb3824f997d83f1223f",
       "version_major": 2,
       "version_minor": 0
      },
      "text/plain": [
       "InteractivePlotlyExample(series='[{\"times\": [0.0, 11.11111111111111, 22.22222222222222, 33.33333333333333, 44.…"
      ]
     },
     "metadata": {},
     "output_type": "display_data"
    }
   ],
   "source": [
    "display(rgj.InteractivePlotlyExample())"
   ]
  },
  {
   "cell_type": "code",
   "execution_count": 13,
   "metadata": {},
   "outputs": [
    {
     "data": {
      "application/vnd.jupyter.widget-view+json": {
       "model_id": "9ac991bd38dc4f3eb494c9a36dd36051",
       "version_major": 2,
       "version_minor": 0
      },
      "text/plain": [
       "ElectrodeGeometry(labels='[\"1\", \"2\", \"3\", \"4\"]', locations='[[0, 0], [1, 0], [1, 1], [2, 1]]', status='\"finish…"
      ]
     },
     "metadata": {},
     "output_type": "display_data"
    }
   ],
   "source": [
    "display(rgj.ElectrodeGeometry(\n",
    "    locations=[[0,0], [2,0], [4,0], [-1,1], [1,1], [3,1], [5,1], [0,2], [2,2], [4,2]],\n",
    "    labels=[1,2,3,4,5,6,7,8,9,10]\n",
    "))"
   ]
  },
  {
   "cell_type": "code",
   "execution_count": 14,
   "metadata": {},
   "outputs": [
    {
     "data": {
      "application/vnd.jupyter.widget-view+json": {
       "model_id": "2e4f557041e84c289aca62d1e10df873",
       "version_major": 2,
       "version_minor": 0
      },
      "text/plain": [
       "Autocorrelograms(output='null', status='\"error\"', status_message='\"No firingsPath provided\"')"
      ]
     },
     "metadata": {},
     "output_type": "display_data"
    }
   ],
   "source": [
    "display(rgj.Autocorrelograms())"
   ]
  },
  {
   "cell_type": "code",
   "execution_count": null,
   "metadata": {},
   "outputs": [],
   "source": []
  }
 ],
 "metadata": {
  "kernelspec": {
   "display_name": "Python 3",
   "language": "python",
   "name": "python3"
  },
  "language_info": {
   "codemirror_mode": {
    "name": "ipython",
    "version": 3
   },
   "file_extension": ".py",
   "mimetype": "text/x-python",
   "name": "python",
   "nbconvert_exporter": "python",
   "pygments_lexer": "ipython3",
   "version": "3.7.3"
  }
 },
 "nbformat": 4,
 "nbformat_minor": 2
}
