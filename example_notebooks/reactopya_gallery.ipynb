{
 "cells": [
  {
   "cell_type": "code",
   "execution_count": 1,
   "metadata": {},
   "outputs": [],
   "source": [
    "import reactopya_gallery_jupyter as rgj"
   ]
  },
  {
   "cell_type": "code",
   "execution_count": 2,
   "metadata": {},
   "outputs": [
    {
     "data": {
      "application/vnd.jupyter.widget-view+json": {
       "model_id": "c7f42d77425d4e13aed7631643e3b080",
       "version_major": 2,
       "version_minor": 0
      },
      "text/plain": [
       "InteractivePlotlyExample(series='[{\"times\": [0.0, 11.11111111111111, 22.22222222222222, 33.33333333333333, 44.…"
      ]
     },
     "metadata": {},
     "output_type": "display_data"
    }
   ],
   "source": [
    "rgj.InteractivePlotlyExample(noise_level=4, num_points=20)"
   ]
  },
  {
   "cell_type": "code",
   "execution_count": 3,
   "metadata": {},
   "outputs": [
    {
     "data": {
      "application/vnd.jupyter.widget-view+json": {
       "model_id": "6ebe842bd3e14d4696db5a3aeadbbe93",
       "version_major": 2,
       "version_minor": 0
      },
      "text/plain": [
       "ElectrodeGeometry(labels='[\"1\", \"2\", \"3\", \"4\"]', locations='[[0, 0], [1, 0], [1, 1], [2, 1]]', status='\"finish…"
      ]
     },
     "metadata": {},
     "output_type": "display_data"
    }
   ],
   "source": [
    "rgj.ElectrodeGeometry(\n",
    "    locations=[[0,0], [2,0], [4,0], [-1,1], [1,1], [3,1], [5,1], [0,2], [2,2], [4,2]],\n",
    "    labels=[1,2,3,4,5,6,7,8,9,10]\n",
    ")"
   ]
  },
  {
   "cell_type": "code",
   "execution_count": 4,
   "metadata": {},
   "outputs": [
    {
     "data": {
      "application/vnd.jupyter.widget-view+json": {
       "model_id": "ef54808a4eb44ed59a7e119653f909f3",
       "version_major": 2,
       "version_minor": 0
      },
      "text/plain": [
       "Autocorrelograms(output='null', status='\"error\"', status_message='\"No firingsPath provided\"')"
      ]
     },
     "metadata": {},
     "output_type": "display_data"
    }
   ],
   "source": [
    "rgj.Autocorrelograms(\n",
    "    firingsPath='sha1dir://ed0fe4de4ef2c54b7c9de420c87f9df200721b24.synth_visapy/mea_c30/set1/firings_true.mda',\n",
    "    samplerate=30000,\n",
    "    download_from='spikeforest.public'\n",
    ")"
   ]
  },
  {
   "cell_type": "code",
   "execution_count": 5,
   "metadata": {},
   "outputs": [
    {
     "data": {
      "application/vnd.jupyter.widget-view+json": {
       "model_id": "6b32a47b783a430dbb5ec36b3f535a4a",
       "version_major": 2,
       "version_minor": 0
      },
      "text/plain": [
       "TimeseriesView()"
      ]
     },
     "metadata": {},
     "output_type": "display_data"
    }
   ],
   "source": [
    "# This doesn't seem to be working quite yet\n",
    "\n",
    "rgj.TimeseriesView(\n",
    "    recordingPath='sha1dir://fb52d510d2543634e247e0d2d1d4390be9ed9e20.synth_magland/datasets_noise10_K10_C4/001_synth',\n",
    "    download_from='spikeforest.public'\n",
    ")"
   ]
  },
  {
   "cell_type": "code",
   "execution_count": null,
   "metadata": {},
   "outputs": [],
   "source": []
  }
 ],
 "metadata": {
  "kernelspec": {
   "display_name": "Python 3",
   "language": "python",
   "name": "python3"
  },
  "language_info": {
   "codemirror_mode": {
    "name": "ipython",
    "version": 3
   },
   "file_extension": ".py",
   "mimetype": "text/x-python",
   "name": "python",
   "nbconvert_exporter": "python",
   "pygments_lexer": "ipython3",
   "version": "3.7.3"
  }
 },
 "nbformat": 4,
 "nbformat_minor": 2
}
